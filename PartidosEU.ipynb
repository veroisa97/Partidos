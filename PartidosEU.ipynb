{
 "cells": [
  {
   "cell_type": "markdown",
   "id": "80132aef",
   "metadata": {},
   "source": [
    "# Partidos de Alemania, Inglaterra e Italia en la Copa del mundo de 1930 a 2018"
   ]
  },
  {
   "cell_type": "markdown",
   "id": "5093c7d0",
   "metadata": {},
   "source": [
    "En el presente documento se realiza un análisis del top tres de selecciones europeas y como ha sido su desempeño en cuanto al número de partidos jugados, el número de partidos ganados y perdidos, durante la Copa del mundo con data de 1930  a 2018. "
   ]
  },
  {
   "cell_type": "code",
   "execution_count": 114,
   "id": "f0b7641c",
   "metadata": {},
   "outputs": [],
   "source": [
    "import numpy as np"
   ]
  },
  {
   "cell_type": "code",
   "execution_count": 42,
   "id": "b461bd86",
   "metadata": {},
   "outputs": [],
   "source": [
    "import pandas as pd\n",
    "import matplotlib.pyplot as plt\n",
    "import requests\n",
    "from io import StringIO\n",
    "url = 'https://raw.githubusercontent.com/cienciadedatos/datos-de-miercoles/master/datos/2019/2019-04-10/partidos.txt'\n",
    "response = requests.get(url)\n",
    "data = response.text\n",
    "df = pd.read_csv(StringIO(data), sep='\\t')"
   ]
  },
  {
   "cell_type": "code",
   "execution_count": 37,
   "id": "23ebeada",
   "metadata": {},
   "outputs": [
    {
     "data": {
      "text/html": [
       "<div>\n",
       "<style scoped>\n",
       "    .dataframe tbody tr th:only-of-type {\n",
       "        vertical-align: middle;\n",
       "    }\n",
       "\n",
       "    .dataframe tbody tr th {\n",
       "        vertical-align: top;\n",
       "    }\n",
       "\n",
       "    .dataframe thead th {\n",
       "        text-align: right;\n",
       "    }\n",
       "</style>\n",
       "<table border=\"1\" class=\"dataframe\">\n",
       "  <thead>\n",
       "    <tr style=\"text-align: right;\">\n",
       "      <th></th>\n",
       "      <th>anio</th>\n",
       "      <th>anfitrion</th>\n",
       "      <th>estadio</th>\n",
       "      <th>ciudad</th>\n",
       "      <th>partido_orden</th>\n",
       "      <th>fecha</th>\n",
       "      <th>equipo_1</th>\n",
       "      <th>equipo_2</th>\n",
       "      <th>equipo_1_final</th>\n",
       "      <th>equipo_2_final</th>\n",
       "    </tr>\n",
       "  </thead>\n",
       "  <tbody>\n",
       "    <tr>\n",
       "      <th>0</th>\n",
       "      <td>1930</td>\n",
       "      <td>Uruguay</td>\n",
       "      <td>Estadio Pocitos</td>\n",
       "      <td>Montevideo</td>\n",
       "      <td>(1)</td>\n",
       "      <td>1930-07-13</td>\n",
       "      <td>Francia</td>\n",
       "      <td>Mexico</td>\n",
       "      <td>4</td>\n",
       "      <td>1</td>\n",
       "    </tr>\n",
       "    <tr>\n",
       "      <th>1</th>\n",
       "      <td>1930</td>\n",
       "      <td>Uruguay</td>\n",
       "      <td>Estadio Parque Central</td>\n",
       "      <td>Montevideo</td>\n",
       "      <td>(2)</td>\n",
       "      <td>1930-07-13</td>\n",
       "      <td>Estados Unidos</td>\n",
       "      <td>Bélgica</td>\n",
       "      <td>3</td>\n",
       "      <td>0</td>\n",
       "    </tr>\n",
       "    <tr>\n",
       "      <th>2</th>\n",
       "      <td>1930</td>\n",
       "      <td>Uruguay</td>\n",
       "      <td>Estadio Parque Central</td>\n",
       "      <td>Montevideo</td>\n",
       "      <td>(3)</td>\n",
       "      <td>1930-07-14</td>\n",
       "      <td>Yugoslavia</td>\n",
       "      <td>Brasil</td>\n",
       "      <td>2</td>\n",
       "      <td>1</td>\n",
       "    </tr>\n",
       "    <tr>\n",
       "      <th>3</th>\n",
       "      <td>1930</td>\n",
       "      <td>Uruguay</td>\n",
       "      <td>Estadio Pocitos</td>\n",
       "      <td>Montevideo</td>\n",
       "      <td>(4)</td>\n",
       "      <td>1930-07-14</td>\n",
       "      <td>Rumania</td>\n",
       "      <td>Perú</td>\n",
       "      <td>3</td>\n",
       "      <td>1</td>\n",
       "    </tr>\n",
       "    <tr>\n",
       "      <th>4</th>\n",
       "      <td>1930</td>\n",
       "      <td>Uruguay</td>\n",
       "      <td>Estadio Parque Central</td>\n",
       "      <td>Montevideo</td>\n",
       "      <td>(5)</td>\n",
       "      <td>1930-07-15</td>\n",
       "      <td>Argentina</td>\n",
       "      <td>Francia</td>\n",
       "      <td>1</td>\n",
       "      <td>0</td>\n",
       "    </tr>\n",
       "    <tr>\n",
       "      <th>...</th>\n",
       "      <td>...</td>\n",
       "      <td>...</td>\n",
       "      <td>...</td>\n",
       "      <td>...</td>\n",
       "      <td>...</td>\n",
       "      <td>...</td>\n",
       "      <td>...</td>\n",
       "      <td>...</td>\n",
       "      <td>...</td>\n",
       "      <td>...</td>\n",
       "    </tr>\n",
       "    <tr>\n",
       "      <th>895</th>\n",
       "      <td>2018</td>\n",
       "      <td>Rusia</td>\n",
       "      <td>Samara Arena</td>\n",
       "      <td>Samara (UTC+4)</td>\n",
       "      <td>(60)</td>\n",
       "      <td>2018-07-07</td>\n",
       "      <td>Suecia</td>\n",
       "      <td>Inglaterra</td>\n",
       "      <td>0</td>\n",
       "      <td>2</td>\n",
       "    </tr>\n",
       "    <tr>\n",
       "      <th>896</th>\n",
       "      <td>2018</td>\n",
       "      <td>Rusia</td>\n",
       "      <td>Saint Petersburg Stadium</td>\n",
       "      <td>St. Petersburg (UTC+3)</td>\n",
       "      <td>(61)</td>\n",
       "      <td>2018-07-10</td>\n",
       "      <td>Francia</td>\n",
       "      <td>Bélgica</td>\n",
       "      <td>1</td>\n",
       "      <td>0</td>\n",
       "    </tr>\n",
       "    <tr>\n",
       "      <th>897</th>\n",
       "      <td>2018</td>\n",
       "      <td>Rusia</td>\n",
       "      <td>Luzhniki Stadium</td>\n",
       "      <td>Moscow (UTC+3)</td>\n",
       "      <td>(62)</td>\n",
       "      <td>2018-07-11</td>\n",
       "      <td>Croacia</td>\n",
       "      <td>Inglaterra</td>\n",
       "      <td>2</td>\n",
       "      <td>1</td>\n",
       "    </tr>\n",
       "    <tr>\n",
       "      <th>898</th>\n",
       "      <td>2018</td>\n",
       "      <td>Rusia</td>\n",
       "      <td>Saint Petersburg Stadium</td>\n",
       "      <td>St. Petersburg (UTC+3)</td>\n",
       "      <td>(63)</td>\n",
       "      <td>2018-07-14</td>\n",
       "      <td>Bélgica</td>\n",
       "      <td>Inglaterra</td>\n",
       "      <td>2</td>\n",
       "      <td>0</td>\n",
       "    </tr>\n",
       "    <tr>\n",
       "      <th>899</th>\n",
       "      <td>2018</td>\n",
       "      <td>Rusia</td>\n",
       "      <td>Luzhniki Stadium</td>\n",
       "      <td>Moscow (UTC+3)</td>\n",
       "      <td>(64)</td>\n",
       "      <td>2018-07-15</td>\n",
       "      <td>Francia</td>\n",
       "      <td>Croacia</td>\n",
       "      <td>4</td>\n",
       "      <td>2</td>\n",
       "    </tr>\n",
       "  </tbody>\n",
       "</table>\n",
       "<p>900 rows × 10 columns</p>\n",
       "</div>"
      ],
      "text/plain": [
       "     anio anfitrion                   estadio                  ciudad  \\\n",
       "0    1930   Uruguay           Estadio Pocitos              Montevideo   \n",
       "1    1930   Uruguay    Estadio Parque Central              Montevideo   \n",
       "2    1930   Uruguay    Estadio Parque Central              Montevideo   \n",
       "3    1930   Uruguay           Estadio Pocitos              Montevideo   \n",
       "4    1930   Uruguay    Estadio Parque Central              Montevideo   \n",
       "..    ...       ...                       ...                     ...   \n",
       "895  2018     Rusia              Samara Arena          Samara (UTC+4)   \n",
       "896  2018     Rusia  Saint Petersburg Stadium  St. Petersburg (UTC+3)   \n",
       "897  2018     Rusia          Luzhniki Stadium          Moscow (UTC+3)   \n",
       "898  2018     Rusia  Saint Petersburg Stadium  St. Petersburg (UTC+3)   \n",
       "899  2018     Rusia          Luzhniki Stadium          Moscow (UTC+3)   \n",
       "\n",
       "    partido_orden       fecha        equipo_1    equipo_2  equipo_1_final  \\\n",
       "0             (1)  1930-07-13         Francia      Mexico               4   \n",
       "1             (2)  1930-07-13  Estados Unidos     Bélgica               3   \n",
       "2             (3)  1930-07-14      Yugoslavia      Brasil               2   \n",
       "3             (4)  1930-07-14         Rumania        Perú               3   \n",
       "4             (5)  1930-07-15       Argentina     Francia               1   \n",
       "..            ...         ...             ...         ...             ...   \n",
       "895          (60)  2018-07-07          Suecia  Inglaterra               0   \n",
       "896          (61)  2018-07-10         Francia     Bélgica               1   \n",
       "897          (62)  2018-07-11         Croacia  Inglaterra               2   \n",
       "898          (63)  2018-07-14         Bélgica  Inglaterra               2   \n",
       "899          (64)  2018-07-15         Francia     Croacia               4   \n",
       "\n",
       "     equipo_2_final  \n",
       "0                 1  \n",
       "1                 0  \n",
       "2                 1  \n",
       "3                 1  \n",
       "4                 0  \n",
       "..              ...  \n",
       "895               2  \n",
       "896               0  \n",
       "897               1  \n",
       "898               0  \n",
       "899               2  \n",
       "\n",
       "[900 rows x 10 columns]"
      ]
     },
     "execution_count": 37,
     "metadata": {},
     "output_type": "execute_result"
    }
   ],
   "source": [
    "df"
   ]
  },
  {
   "cell_type": "markdown",
   "id": "2b7450e2",
   "metadata": {},
   "source": [
    "## Partidos de Inglaterra"
   ]
  },
  {
   "cell_type": "code",
   "execution_count": 101,
   "id": "7dae9543",
   "metadata": {},
   "outputs": [
    {
     "name": "stdout",
     "output_type": "stream",
     "text": [
      "El número de partidos ganados para Inglaterra es: 39\n",
      "El número de partidos perdidos para Inglaterra es: 30\n",
      "El número total de partidos jugados para Inglaterra es: 69\n"
     ]
    }
   ],
   "source": [
    "inglaterra_en_equipo_1 = df[df['equipo_1'] == 'Inglaterra']\n",
    "inglaterra_en_equipo_2 = df[df['equipo_2'] == 'Inglaterra']\n",
    "\n",
    "pais1 = pd.concat([inglaterra_en_equipo_1, inglaterra_en_equipo_2])\n",
    "\n",
    "columnas_inglaterra = pais1[['equipo_1', 'equipo_2', 'equipo_1_final', 'equipo_2_final']]\n",
    "\n",
    "resultados = []\n",
    "\n",
    "for index, row in columnas_inglaterra.iterrows():\n",
    "    resultadoing = 'GANO' if row['equipo_1_final'] > row['equipo_2_final'] else 'PERDIO'\n",
    "    resultados.append(resultadoing)\n",
    "\n",
    "ganadosing = resultados.count('GANO')\n",
    "perdidosing = resultados.count('PERDIO')\n",
    "\n",
    "total_partidos2 = len(columnas_inglaterra)\n",
    "print('El número de partidos ganados para Inglaterra es:', ganadosing)\n",
    "print('El número de partidos perdidos para Inglaterra es:', perdidosing)\n",
    "print('El número total de partidos jugados para Inglaterra es:',total_partidos2)\n"
   ]
  },
  {
   "cell_type": "markdown",
   "id": "b2f1b58f",
   "metadata": {},
   "source": [
    "## Partidos de Alemania"
   ]
  },
  {
   "cell_type": "code",
   "execution_count": 107,
   "id": "62574ae9",
   "metadata": {},
   "outputs": [
    {
     "name": "stdout",
     "output_type": "stream",
     "text": [
      "El número de partidos ganados para Alemania es: 25\n",
      "El número de partidos perdidos para Alemania es: 22\n",
      "El número total de partidos jugados para Alemania es: 47\n"
     ]
    }
   ],
   "source": [
    "alemania_en_equipo_1 = df[df['equipo_1'] == 'Alemania']\n",
    "alemania_en_equipo_2 = df[df['equipo_2'] == 'Alemania']\n",
    "\n",
    "pais1 = pd.concat([alemania_en_equipo_1, alemania_en_equipo_2])\n",
    "\n",
    "columnas_alemania = pais1[['equipo_1', 'equipo_2', 'equipo_1_final', 'equipo_2_final']]\n",
    "\n",
    "resultados = []\n",
    "\n",
    "for index, row in columnas_alemania.iterrows():\n",
    "    resultado_alemania = 'GANO' if row['equipo_1_final'] > row['equipo_2_final'] else 'PERDIO'\n",
    "    resultados.append(resultado_alemania)\n",
    "\n",
    "ganados_alemania = resultados.count('GANO')\n",
    "perdidos_alemania = resultados.count('PERDIO')\n",
    "\n",
    "total_partidos3 = len(columnas_alemania)\n",
    "print('El número de partidos ganados para Alemania es:', ganados_alemania)\n",
    "print('El número de partidos perdidos para Alemania es:', perdidos_alemania)\n",
    "print('El número total de partidos jugados para Alemania es:',total_partidos3)\n"
   ]
  },
  {
   "cell_type": "markdown",
   "id": "0c4a70bb",
   "metadata": {},
   "source": [
    "## Partidos de Italia"
   ]
  },
  {
   "cell_type": "code",
   "execution_count": 109,
   "id": "39869477",
   "metadata": {},
   "outputs": [
    {
     "name": "stdout",
     "output_type": "stream",
     "text": [
      "El número de partidos ganados para Italia es: 47\n",
      "El número de partidos perdidos para Italia es: 36\n",
      "El número total de partidos jugados para Italia es: 83\n"
     ]
    }
   ],
   "source": [
    "italia_en_equipo_1 = df[df['equipo_1'] == 'Italia']\n",
    "italia_en_equipo_2 = df[df['equipo_2'] == 'Italia']\n",
    "\n",
    "pais1 = pd.concat([italia_en_equipo_1, italia_en_equipo_2])\n",
    "\n",
    "columnas_italia = pais1[['equipo_1', 'equipo_2', 'equipo_1_final', 'equipo_2_final']]\n",
    "\n",
    "resultados = []\n",
    "\n",
    "for index, row in columnas_italia.iterrows():\n",
    "    resultado_italia = 'GANO' if row['equipo_1_final'] > row['equipo_2_final'] else 'PERDIO'\n",
    "    resultados.append(resultado_italia)\n",
    "\n",
    "ganados_italia = resultados.count('GANO')\n",
    "perdidos_italia = resultados.count('PERDIO')\n",
    "\n",
    "total_partidos4 = len(columnas_italia)\n",
    "print('El número de partidos ganados para Italia es:', ganados_italia)\n",
    "print('El número de partidos perdidos para Italia es:', perdidos_italia)\n",
    "print('El número total de partidos jugados para Italia es:', total_partidos4)\n"
   ]
  },
  {
   "cell_type": "markdown",
   "id": "0307c53e",
   "metadata": {},
   "source": [
    "## Comparacion de partidos jugados por pais"
   ]
  },
  {
   "cell_type": "code",
   "execution_count": 124,
   "id": "18261560",
   "metadata": {},
   "outputs": [
    {
     "data": {
      "image/png": "[encoded data removed]",
      "text/plain": [
       "<Figure size 640x480 with 1 Axes>"
      ]
     },
     "metadata": {},
     "output_type": "display_data"
    },
    {
     "data": {
      "text/plain": [
       "<Figure size 640x480 with 0 Axes>"
      ]
     },
     "metadata": {},
     "output_type": "display_data"
    }
   ],
   "source": [
    "equipos = ['Inglaterra', 'Alemania','Italia']\n",
    "total_partidos = [total_partidos2, total_partidos3, total_partidos4]\n",
    "\n",
    "plt.bar(equipos, total_partidos, color='green')\n",
    "plt.xlabel('Equipos')\n",
    "plt.ylabel('Número de Partidos Jugados')\n",
    "plt.title('Número Total de Partidos Jugados por Equipo')\n",
    "plt.show()\n",
    "plt.savefig('grafico_totalpartidos.png')"
   ]
  },
  {
   "cell_type": "markdown",
   "id": "92282c9c",
   "metadata": {},
   "source": [
    "La figura 1 muestra que de los paises seleccionados, el pais que mas copas del mundo (1930 - 2018) ha jugado es Italia, con un total de 83 partidos,seguido de Inglaterra con 69 partidos y finalmente Alemania con 47 partidos."
   ]
  },
  {
   "cell_type": "markdown",
   "id": "7b21feef",
   "metadata": {},
   "source": [
    "## Comparacion partidos ganados y perdidos por pais"
   ]
  },
  {
   "cell_type": "code",
   "execution_count": 132,
   "id": "db0b5b40",
   "metadata": {},
   "outputs": [
    {
     "data": {
      "image/png": "[encoded data removed]",
      "text/plain": [
       "<Figure size 1500x400 with 3 Axes>"
      ]
     },
     "metadata": {},
     "output_type": "display_data"
    },
    {
     "data": {
      "text/plain": [
       "<Figure size 640x480 with 0 Axes>"
      ]
     },
     "metadata": {},
     "output_type": "display_data"
    }
   ],
   "source": [
    "import numpy as np\n",
    "import matplotlib.pyplot as plt\n",
    "\n",
    "categorias = ['Ganados', 'Perdidos']\n",
    "italia_barras = [ganados_italia, perdidos_italia]\n",
    "alemania_barras = [ganados_alemania, perdidos_alemania]\n",
    "inglaterra_barras = [ganadosing, perdidosing]\n",
    "ancho = 0.35\n",
    "posiciones = np.arange(len(categorias))\n",
    "\n",
    "fig, (ax1, ax2, ax3) = plt.subplots(1, 3, figsize=(15, 4))\n",
    "\n",
    "barra_italia = ax1.bar(posiciones, italia_barras, ancho, label='Italia', color='blue')\n",
    "ax1.set_ylabel('Número de partidos')\n",
    "ax1.set_title('Italia')\n",
    "ax1.set_xticks(posiciones)\n",
    "ax1.set_xticklabels(categorias)\n",
    "ax1.legend()\n",
    "\n",
    "barra_alemania = ax2.bar(posiciones, alemania_barras, ancho, label='Alemania', color='green')\n",
    "ax2.set_ylabel('Número de partidos')\n",
    "ax2.set_title('Alemania')\n",
    "ax2.set_xticks(posiciones)\n",
    "ax2.set_xticklabels(categorias)\n",
    "ax2.legend()\n",
    "\n",
    "barra_inglaterra = ax3.bar(posiciones, inglaterra_barras, ancho, label='Inglaterra', color='orange')\n",
    "ax3.set_ylabel('Número de partidos')\n",
    "ax3.set_title('Inglaterra')\n",
    "ax3.set_xticks(posiciones)\n",
    "ax3.set_xticklabels(categorias)\n",
    "ax3.legend()\n",
    "\n",
    "plt.tight_layout(rect=[0, 0.03, 1, 0.95])\n",
    "plt.suptitle('Comparativa de Partidos Ganados y Perdidos por País', fontsize=12)\n",
    "plt.show()\n",
    "plt.savefig('grafico_barras_tres_subgraficos.png')\n",
    "\n"
   ]
  },
  {
   "cell_type": "markdown",
   "id": "3b4322a5",
   "metadata": {},
   "source": [
    "La figura 2 muestra una comparacion de los partidos ganados y perdidos por pais. Italia tiene un total de 47 partidos ganados y 36 partidos perdidos. Alemania tiene un total de 25 partidos ganados y 22 partidos perdidos. Inglaterra tiene un total de 39 partidos ganados y 30 partidos perdidos. La seleccion con mas partidos ganados y perdidos es Italia ya que ha jugado mas partidos durante la copa del mundo (1930 - 2018)."
   ]
  }
 ],
 "metadata": {
  "kernelspec": {
   "display_name": "Python 3 (ipykernel)",
   "language": "python",
   "name": "python3"
  },
  "language_info": {
   "codemirror_mode": {
    "name": "ipython",
    "version": 3
   },
   "file_extension": ".py",
   "mimetype": "text/x-python",
   "name": "python",
   "nbconvert_exporter": "python",
   "pygments_lexer": "ipython3",
   "version": "3.11.4"
  }
 },
 "nbformat": 4,
 "nbformat_minor": 5
}
